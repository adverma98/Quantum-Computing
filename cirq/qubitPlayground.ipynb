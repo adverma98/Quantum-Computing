{
 "cells": [
  {
   "cell_type": "code",
   "execution_count": 2,
   "metadata": {},
   "outputs": [
    {
     "name": "stdout",
     "output_type": "stream",
     "text": [
      "[cirq.GridQubit(0, 0), cirq.GridQubit(0, 1), cirq.GridQubit(0, 2), cirq.GridQubit(0, 3), cirq.GridQubit(0, 4), cirq.GridQubit(0, 5), cirq.GridQubit(1, 0), cirq.GridQubit(1, 1), cirq.GridQubit(1, 2), cirq.GridQubit(1, 3), cirq.GridQubit(1, 4), cirq.GridQubit(1, 5), cirq.GridQubit(2, 0), cirq.GridQubit(2, 1), cirq.GridQubit(2, 2), cirq.GridQubit(2, 3), cirq.GridQubit(2, 4), cirq.GridQubit(2, 5), cirq.GridQubit(3, 0), cirq.GridQubit(3, 1), cirq.GridQubit(3, 2), cirq.GridQubit(3, 3), cirq.GridQubit(3, 4), cirq.GridQubit(3, 5), cirq.GridQubit(4, 0), cirq.GridQubit(4, 1), cirq.GridQubit(4, 2), cirq.GridQubit(4, 3), cirq.GridQubit(4, 4), cirq.GridQubit(4, 5), cirq.GridQubit(5, 0), cirq.GridQubit(5, 1), cirq.GridQubit(5, 2), cirq.GridQubit(5, 3), cirq.GridQubit(5, 4), cirq.GridQubit(5, 5)]\n"
     ]
    }
   ],
   "source": [
    "import cirq\n",
    "\n",
    "length = 6\n",
    "\n",
    "qubits = [cirq.GridQubit(i, j) for i in range(length) for j in range(length)]\n",
    "print(qubits)"
   ]
  },
  {
   "cell_type": "code",
   "execution_count": 9,
   "metadata": {},
   "outputs": [],
   "source": [
    "circuit = cirq.Circuit()\n",
    "circuit.append([cirq.H(q) for q in qubits if (q.row + q.col) % 2 ==0])\n",
    "circuit.append([cirq.X(q) for q in qubits if (q.row + q.col) % 2 ==1], strategy=cirq.InsertStrategy.NEW_THEN_INLINE)"
   ]
  },
  {
   "cell_type": "code",
   "execution_count": 10,
   "metadata": {},
   "outputs": [
    {
     "name": "stdout",
     "output_type": "stream",
     "text": [
      "(0, 0): ───H───────\n",
      "\n",
      "(0, 1): ───────X───\n",
      "\n",
      "(0, 2): ───H───────\n",
      "\n",
      "(0, 3): ───────X───\n",
      "\n",
      "(0, 4): ───H───────\n",
      "\n",
      "(0, 5): ───────X───\n",
      "\n",
      "(1, 0): ───────X───\n",
      "\n",
      "(1, 1): ───H───────\n",
      "\n",
      "(1, 2): ───────X───\n",
      "\n",
      "(1, 3): ───H───────\n",
      "\n",
      "(1, 4): ───────X───\n",
      "\n",
      "(1, 5): ───H───────\n",
      "\n",
      "(2, 0): ───H───────\n",
      "\n",
      "(2, 1): ───────X───\n",
      "\n",
      "(2, 2): ───H───────\n",
      "\n",
      "(2, 3): ───────X───\n",
      "\n",
      "(2, 4): ───H───────\n",
      "\n",
      "(2, 5): ───────X───\n",
      "\n",
      "(3, 0): ───────X───\n",
      "\n",
      "(3, 1): ───H───────\n",
      "\n",
      "(3, 2): ───────X───\n",
      "\n",
      "(3, 3): ───H───────\n",
      "\n",
      "(3, 4): ───────X───\n",
      "\n",
      "(3, 5): ───H───────\n",
      "\n",
      "(4, 0): ───H───────\n",
      "\n",
      "(4, 1): ───────X───\n",
      "\n",
      "(4, 2): ───H───────\n",
      "\n",
      "(4, 3): ───────X───\n",
      "\n",
      "(4, 4): ───H───────\n",
      "\n",
      "(4, 5): ───────X───\n",
      "\n",
      "(5, 0): ───────X───\n",
      "\n",
      "(5, 1): ───H───────\n",
      "\n",
      "(5, 2): ───────X───\n",
      "\n",
      "(5, 3): ───H───────\n",
      "\n",
      "(5, 4): ───────X───\n",
      "\n",
      "(5, 5): ───H───────\n"
     ]
    }
   ],
   "source": [
    "print(circuit)"
   ]
  },
  {
   "cell_type": "code",
   "execution_count": 11,
   "metadata": {},
   "outputs": [],
   "source": [
    "def rot_x_layer(length, half_turns):\n",
    "    \"\"\"Yields X rotations by half_turns on a square grid of given length.\"\"\"\n",
    "    rot = cirq.XPowGate(exponent=half_turns)\n",
    "    for i in range(length):\n",
    "        for j in range(length):\n",
    "            yield rot(cirq.GridQubit(i, j))"
   ]
  },
  {
   "cell_type": "code",
   "execution_count": 12,
   "metadata": {},
   "outputs": [
    {
     "name": "stdout",
     "output_type": "stream",
     "text": [
      "(0, 0): ───X^0.1───\n",
      "\n",
      "(0, 1): ───X^0.1───\n",
      "\n",
      "(1, 0): ───X^0.1───\n",
      "\n",
      "(1, 1): ───X^0.1───\n"
     ]
    }
   ],
   "source": [
    "circuit = cirq.Circuit()\n",
    "circuit.append(rot_x_layer(2, 0.1))\n",
    "print(circuit)"
   ]
  },
  {
   "cell_type": "code",
   "execution_count": null,
   "metadata": {},
   "outputs": [],
   "source": []
  }
 ],
 "metadata": {
  "kernelspec": {
   "display_name": "Python 3",
   "language": "python",
   "name": "python3"
  },
  "language_info": {
   "codemirror_mode": {
    "name": "ipython",
    "version": 3
   },
   "file_extension": ".py",
   "mimetype": "text/x-python",
   "name": "python",
   "nbconvert_exporter": "python",
   "pygments_lexer": "ipython3",
   "version": "3.6.4"
  }
 },
 "nbformat": 4,
 "nbformat_minor": 2
}
